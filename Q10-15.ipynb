{
 "cells": [
  {
   "cell_type": "markdown",
   "metadata": {},
   "source": [
    "## Python Exercise\n",
    "\n",
    "**Exercise 11: Fuel Efficiency**\n",
    "\n",
    "In the United States, fuel efficiency for vehicles is normally expressed in miles-pergallon\n",
    "(MPG). In Canada, fuel efficiency is normally expressed in liters-per-hundred\n",
    "kilometers (L/100 km). Use your research skills to determine how to convert from\n",
    "MPGto L/100 km. Then create a program that reads a value from the user in American\n",
    "units and displays the equivalent fuel efficiency in Canadian units."
   ]
  },
  {
   "cell_type": "code",
   "execution_count": 17,
   "metadata": {},
   "outputs": [
    {
     "name": "stdin",
     "output_type": "stream",
     "text": [
      "Please compute your car fuel efficiency in miles-pergallon (MPG)  21.38\n"
     ]
    },
    {
     "name": "stdout",
     "output_type": "stream",
     "text": [
      "Your car's fuel efficiency equivalent to Canadian units is 11.0 L/100km\n"
     ]
    }
   ],
   "source": [
    "eff = float(input('Please compute your car fuel efficiency in miles-pergallon (MPG) '))\n",
    "converted = round((235.215/eff),2)\n",
    "\n",
    "print(\"Your car's fuel efficiency equivalent to Canadian units is \" + f'{converted} L/100km')"
   ]
  },
  {
   "cell_type": "code",
   "execution_count": 8,
   "metadata": {},
   "outputs": [
    {
     "name": "stdin",
     "output_type": "stream",
     "text": [
      "Please compute your car's fuel efficiency  11\n",
      "Please select 'L' if the unit is in L/100km or 'M' if the unit is in MPG l\n"
     ]
    },
    {
     "name": "stdout",
     "output_type": "stream",
     "text": [
      "Your car's fuel efficiency equivalent to American units is 21.38 MPG\n"
     ]
    }
   ],
   "source": [
    "eff = float(input(\"Please compute your car's fuel efficiency \"))\n",
    "unit = input(\"Please select 'L' if the unit is in L/100km or 'M' if the unit is in MPG\")\n",
    "\n",
    "if unit.upper() == 'L':\n",
    "    converted = round((235.215/eff),2)\n",
    "    print(f\"Your car's fuel efficiency equivalent to American units is \" + f'{converted} MPG')\n",
    "elif unit.upper() == 'M':\n",
    "    converted = round((235.215/eff),2)\n",
    "    print(f\"Your car's fuel efficiency equivalent to Canadian units is \" + f'{converted} L/100km')\n",
    "else:\n",
    "    print(\"Please only select either 'L' or 'M'\")"
   ]
  },
  {
   "cell_type": "markdown",
   "metadata": {},
   "source": [
    "   "
   ]
  },
  {
   "cell_type": "markdown",
   "metadata": {},
   "source": [
    "**Exercise 12: Distance Between Two Points on Earth**\n",
    "\n",
    "The surface of the Earth is curved, and the distance between degrees of longitude\n",
    "varies with latitude. As a result, finding the distance between two points on the surface\n",
    "of the Earth is more complicated than simply using the Pythagorean theorem.\n",
    "Let (t1, g1) and (t2, g2) be the latitude and longitude of two points on the Earth’s\n",
    "surface. The distance between these points, following the surface of the Earth, in\n",
    "kilometers is:\n",
    "distance = 6371.01 × arccos(sin(t1) × sin(t2) + cos(t1) × cos(t2) × cos(g1 − g2))\n",
    "\n",
    "Create a program that allows the user to enter the latitude and longitude of two\n",
    "points on the Earth in degrees. Your program should display the distance between\n",
    "the points, following the surface of the earth, in kilometers."
   ]
  },
  {
   "cell_type": "code",
   "execution_count": 2,
   "metadata": {},
   "outputs": [
    {
     "name": "stdin",
     "output_type": "stream",
     "text": [
      "Key in the x-coordinate for Latitude 1 12\n",
      "Key in the y-coordinate for Latitude 1 30\n",
      "Key in the x-coordinate for Latitude 2 0\n",
      "Key in the y-coordinate for Latitude 2 12\n"
     ]
    },
    {
     "name": "stdout",
     "output_type": "stream",
     "text": [
      "The distance between these two places is 10007.56km\n"
     ]
    }
   ],
   "source": [
    "x1 = float(input('Key in the x-coordinate for Latitude 1'))\n",
    "y1 = float(input('Key in the y-coordinate for Latitude 1'))\n",
    "x2 = float(input('Key in the x-coordinate for Latitude 2'))\n",
    "y2 = float(input('Key in the y-coordinate for Latitude 2'))\n",
    "\n",
    "import math\n",
    "t1 = math.radians(x1)\n",
    "t2 = math.radians(x2)\n",
    "g1 = math.radians(y1)\n",
    "g2 = math.radians(y2)\n",
    "\n",
    "distance = 6371.01 * math.acos(math.sin(t1) * math.sin(t2) * math.cos(t1) * math.cos(t2) * math.cos(g1-g2))\n",
    "d = round(distance,2)\n",
    "\n",
    "print('The distance between these two places is ' + str(d) + 'km')"
   ]
  },
  {
   "cell_type": "markdown",
   "metadata": {},
   "source": [
    "   \n",
    "   "
   ]
  },
  {
   "cell_type": "markdown",
   "metadata": {},
   "source": [
    "**Exercise 14: Height Units**\n",
    "\n",
    "Many people think about their height in feet and inches, even in some countries that\n",
    "primarily use the metric system. Write a program that reads a number of feet from\n",
    "the user, followed by a number of inches. Once these values are read, your program\n",
    "should compute and display the equivalent number of centimeters."
   ]
  },
  {
   "cell_type": "code",
   "execution_count": 6,
   "metadata": {},
   "outputs": [
    {
     "name": "stdin",
     "output_type": "stream",
     "text": [
      "Your Height? (Put only feet value) 5\n",
      "and....how many inches? 8\n"
     ]
    },
    {
     "name": "stdout",
     "output_type": "stream",
     "text": [
      "Your height in metric is 172.72cm\n"
     ]
    }
   ],
   "source": [
    "ft = int(input('Your Height? (Put only feet value)'))\n",
    "inch = int(input('and....how many inches?'))\n",
    "\n",
    "converted = (ft + (inch*0.0833333))*30.48\n",
    "height_cm = round(converted,2)\n",
    "\n",
    "print('Your height in metric is ' + str(height_cm) +'cm')"
   ]
  },
  {
   "cell_type": "markdown",
   "metadata": {},
   "source": [
    "   "
   ]
  },
  {
   "cell_type": "markdown",
   "metadata": {},
   "source": [
    "**Exercise 15: Distance Units**\n",
    "\n",
    "In this exercise, you will create a program that begins by reading a measurement\n",
    "in feet from the user. Then your program should display the equivalent distance in\n",
    "inches, yards and miles. Use the Internet to look up the necessary conversion factors\n",
    "if you don’t have them memorized."
   ]
  },
  {
   "cell_type": "code",
   "execution_count": 5,
   "metadata": {},
   "outputs": [
    {
     "name": "stdout",
     "output_type": "stream",
     "text": [
      "This is a unit calculator apps for length\n"
     ]
    },
    {
     "name": "stdin",
     "output_type": "stream",
     "text": [
      "Please key in any length in feet. Length (ft) =  1234\n"
     ]
    },
    {
     "name": "stdout",
     "output_type": "stream",
     "text": [
      "Length = 14808 inches\n",
      "Length = 411.33 yards\n",
      "Length = 0.23 miles\n"
     ]
    }
   ],
   "source": [
    "print('This is a unit calculator apps for length')\n",
    "ft = int(input('Please key in any length in feet. Length (ft) = '))\n",
    "inch = round((ft*12),2)\n",
    "yard = round((ft*(1/3)),2)\n",
    "mile = round((ft*0.000189394),2)\n",
    "print('Length = ' + str(inch) + ' inches')\n",
    "print('Length = ' + str(yard) + ' yards')\n",
    "print('Length = ' + str(mile) + ' miles')"
   ]
  }
 ],
 "metadata": {
  "kernelspec": {
   "display_name": "Python",
   "language": "python",
   "name": "conda-env-python-py"
  },
  "language_info": {
   "codemirror_mode": {
    "name": "ipython",
    "version": 3
   },
   "file_extension": ".py",
   "mimetype": "text/x-python",
   "name": "python",
   "nbconvert_exporter": "python",
   "pygments_lexer": "ipython3",
   "version": "3.6.10"
  }
 },
 "nbformat": 4,
 "nbformat_minor": 4
}
