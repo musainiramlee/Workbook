{
 "cells": [
  {
   "cell_type": "markdown",
   "metadata": {},
   "source": [
    "**Exercise 62: Discount Table**\n",
    "\n",
    "A particular retailer is having a 60 percent off sale on a variety of discontinued\n",
    "products. The retailer would like to help its customers determine the reduced price\n",
    "of the merchandise by having a printed discount table on the shelf that shows the\n",
    "original prices and the prices after the discount has been applied. Write a program that\n",
    "uses a loop to generate this table, showing the original price, the discount amount,\n",
    "and the new price for purchases of $4.95, $9.95, $14.95, $19.95 and $24.95. Ensure\n",
    "that the discount amounts and the new prices are rounded to 2 decimal places when\n",
    "they are displayed."
   ]
  },
  {
   "cell_type": "code",
   "execution_count": 14,
   "metadata": {},
   "outputs": [
    {
     "name": "stdout",
     "output_type": "stream",
     "text": [
      "\n",
      "\n",
      "    These are all discounted products with 60% sales offer,\n",
      "    The original price for these items is $4.95 and price after discount is $2.97\n",
      "\n",
      "\n",
      "    These are all discounted products with 60% sales offer,\n",
      "    The original price for these items is $9.95 and price after discount is $5.97\n",
      "\n",
      "\n",
      "    These are all discounted products with 60% sales offer,\n",
      "    The original price for these items is $14.95 and price after discount is $8.97\n",
      "\n",
      "\n",
      "    These are all discounted products with 60% sales offer,\n",
      "    The original price for these items is $19.95 and price after discount is $11.97\n",
      "\n",
      "\n",
      "    These are all discounted products with 60% sales offer,\n",
      "    The original price for these items is $24.95 and price after discount is $14.97\n"
     ]
    }
   ],
   "source": [
    "price = [4.95, 9.95, 14.95, 19.95, 24.95]\n",
    "\n",
    "for i in price:\n",
    "    original = i\n",
    "    disc_price = round((0.6*i),2)\n",
    "    print()\n",
    "    print(f'''\n",
    "    These are all discounted products with 60% sales offer,\n",
    "    The original price for these items is ${original} and price after discount is ${disc_price}''')"
   ]
  },
  {
   "cell_type": "markdown",
   "metadata": {},
   "source": [
    "    "
   ]
  },
  {
   "cell_type": "markdown",
   "metadata": {},
   "source": [
    "        "
   ]
  }
 ],
 "metadata": {
  "kernelspec": {
   "display_name": "Python",
   "language": "python",
   "name": "conda-env-python-py"
  },
  "language_info": {
   "codemirror_mode": {
    "name": "ipython",
    "version": 3
   },
   "file_extension": ".py",
   "mimetype": "text/x-python",
   "name": "python",
   "nbconvert_exporter": "python",
   "pygments_lexer": "ipython3",
   "version": "3.6.10"
  }
 },
 "nbformat": 4,
 "nbformat_minor": 4
}
