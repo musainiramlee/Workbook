{
 "cells": [
  {
   "cell_type": "markdown",
   "metadata": {},
   "source": [
    "## Python Exercise\n",
    "\n",
    "**Exercise 16: Area and Volume**\n",
    "\n",
    "Write a program that begins by reading a radius, r , from the user. The program will\n",
    "continue by computing and displaying the area of a circle with radius r and the\n",
    "volume of a sphere with radius r . Use the pi constant in the math module in your\n",
    "calculations."
   ]
  },
  {
   "cell_type": "code",
   "execution_count": 2,
   "metadata": {},
   "outputs": [
    {
     "name": "stdin",
     "output_type": "stream",
     "text": [
      "Please key in the radius in (m) 9\n"
     ]
    },
    {
     "name": "stdout",
     "output_type": "stream",
     "text": [
      "Area of circle = 254.47 m2\n",
      "Volume of Sphere = 3053.63 m3\n"
     ]
    }
   ],
   "source": [
    "r = (input('Please key in the radius in (m)'))\n",
    "import math\n",
    "\n",
    "Area = (math.pi)*(int(r)**2)\n",
    "Ac = round(Area,2)\n",
    "\n",
    "VolSph = (math.pi)*(int(r)**3)*(4/3)\n",
    "Vs = round(VolSph,2)\n",
    "\n",
    "print('Area of circle = '+ str(Ac) + ' m2')\n",
    "print('Volume of Sphere = '+ str(Vs) + ' m3')"
   ]
  },
  {
   "cell_type": "markdown",
   "metadata": {},
   "source": [
    "   "
   ]
  },
  {
   "cell_type": "markdown",
   "metadata": {},
   "source": [
    "**Exercise 17: Heat Capacity**\n",
    "\n",
    "The amount of energy required to increase the temperature of one gram of a material\n",
    "by one degree Celsius is the material’s specific heat capacity, C. The total amount\n",
    "of energy required to raise m grams of a material by ΔT degrees Celsius can be\n",
    "computed using the formula:   \n",
    "*q = mCΔT*.   \n",
    "\n",
    "Write a program that reads the mass of some water and the temperature change\n",
    "from the user. Your program should display the total amount of energy that must be\n",
    "added or removed to achieve the desired temperature change.   \n",
    "\n",
    "Hint: The specific heat capacity of water is 4.186 Jg◦C. Because water has a density of 1.0 gram per millilitre, you can use grams and millilitres interchangeably\n",
    "in this exercise.    \n",
    "\n",
    "Extend your program so that it also computes the cost of heating the water. Electricity\n",
    "is normally billed using units of kilowatt hours rather than Joules. In this\n",
    "exercise, you should assume that electricity costs 8.9 cents per kilowatt-hour. Use\n",
    "your program to compute the cost of boiling water for a cup of coffee."
   ]
  },
  {
   "cell_type": "code",
   "execution_count": 4,
   "metadata": {},
   "outputs": [
    {
     "name": "stdout",
     "output_type": "stream",
     "text": [
      "This is a calculator to calculate Heat Capacity\n"
     ]
    },
    {
     "name": "stdin",
     "output_type": "stream",
     "text": [
      "Mass of water in grams 40\n",
      "Temperature difference in Deg C 60\n"
     ]
    },
    {
     "name": "stdout",
     "output_type": "stream",
     "text": [
      "The heat capacity for that temperature difference is equal to 10046.4 kJ\n",
      "Cost to heat up the water for that temperature difference is = $0.25\n"
     ]
    }
   ],
   "source": [
    "print('This is a calculator to calculate Heat Capacity')\n",
    "m = float(input('Mass of water in grams'))\n",
    "T = float(input('Temperature difference in Deg C'))\n",
    "\n",
    "q = m*4.186*T\n",
    "cost = round((q*0.000277778*0.089),2)\n",
    "\n",
    "print('The heat capacity for that temperature difference is equal to ' + str(q) + ' kJ')\n",
    "print('Cost to heat up the water for that temperature difference is = $' + str(cost))"
   ]
  },
  {
   "cell_type": "markdown",
   "metadata": {},
   "source": [
    "   \n",
    "   "
   ]
  },
  {
   "cell_type": "markdown",
   "metadata": {},
   "source": [
    "**Exercise 19: Free Fall**\n",
    "\n",
    "Create a program that determines how quickly an object is traveling when it hits the\n",
    "ground. The user will enter the height from which the object is dropped in meters (m).\n",
    "Because the object is dropped its initial speed is 0m/s. Assume that the acceleration\n",
    "due to gravity is 9.8m/s2. You can use the formula vf = surd(v^2i+ 2ad) to compute the\n",
    "final speed, vf , when the initial speed, vi , acceleration, a, and distance, d, are known."
   ]
  },
  {
   "cell_type": "code",
   "execution_count": 11,
   "metadata": {},
   "outputs": [
    {
     "name": "stdout",
     "output_type": "stream",
     "text": [
      "This is a calculator to calculate Free Falling speed\n"
     ]
    },
    {
     "name": "stdin",
     "output_type": "stream",
     "text": [
      "Drop hieght in (meter) 2000\n"
     ]
    },
    {
     "name": "stdout",
     "output_type": "stream",
     "text": [
      "The speed when the object hits the ground is 197.99  m/s\n"
     ]
    }
   ],
   "source": [
    "print('This is a calculator to calculate Free Falling speed')\n",
    "h = int(input('Drop hieght in (meter)'))\n",
    "a = 9.8\n",
    "\n",
    "import math\n",
    "vf = 2*a*h\n",
    "vel = round((math.sqrt(vf)),2)\n",
    "\n",
    "print(f'The speed when the object hits the ground is {vel}  m/s')"
   ]
  },
  {
   "cell_type": "markdown",
   "metadata": {},
   "source": [
    "   "
   ]
  },
  {
   "cell_type": "markdown",
   "metadata": {},
   "source": [
    "   "
   ]
  },
  {
   "cell_type": "markdown",
   "metadata": {},
   "source": [
    "**Exercise 24: Units of Time**\n",
    "\n",
    "Create a program that reads a duration from the user as a number of days, hours,\n",
    "minutes, and seconds. Compute and display the total number of seconds represented\n",
    "by this duration."
   ]
  },
  {
   "cell_type": "code",
   "execution_count": null,
   "metadata": {},
   "outputs": [],
   "source": []
  }
 ],
 "metadata": {
  "kernelspec": {
   "display_name": "Python",
   "language": "python",
   "name": "conda-env-python-py"
  },
  "language_info": {
   "codemirror_mode": {
    "name": "ipython",
    "version": 3
   },
   "file_extension": ".py",
   "mimetype": "text/x-python",
   "name": "python",
   "nbconvert_exporter": "python",
   "pygments_lexer": "ipython3",
   "version": "3.6.10"
  }
 },
 "nbformat": 4,
 "nbformat_minor": 4
}
