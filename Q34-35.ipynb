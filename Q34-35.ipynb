{
 "cells": [
  {
   "cell_type": "markdown",
   "metadata": {},
   "source": [
    "**Exercise 34: Even or Odd?**\n",
    "\n",
    "Write a program that reads an integer from the user. Then your program should\n",
    "display a message indicating whether the integer is even or odd."
   ]
  },
  {
   "cell_type": "code",
   "execution_count": 5,
   "metadata": {},
   "outputs": [
    {
     "name": "stdin",
     "output_type": "stream",
     "text": [
      "Please key in a number  23\n"
     ]
    },
    {
     "name": "stdout",
     "output_type": "stream",
     "text": [
      "This number is an odd integer\n"
     ]
    }
   ],
   "source": [
    "number = int(input('Please key in a number '))\n",
    "\n",
    "if number%2 == 0:\n",
    "    print('This number is an even integer')\n",
    "else:\n",
    "    print('This number is an odd integer')"
   ]
  },
  {
   "cell_type": "markdown",
   "metadata": {},
   "source": [
    "   "
   ]
  },
  {
   "cell_type": "markdown",
   "metadata": {},
   "source": [
    "**Exercise 35: Dog Years**\n",
    "\n",
    "It is commonly said that one human year is equivalent to 7 dog years. However this\n",
    "simple conversion fails to recognize that dogs reach adulthood in approximately two\n",
    "years. As a result, some people believe that it is better to count each of the first two\n",
    "human years as 10.5 dog years, and then count each additional human year as 4 dog\n",
    "years.\n",
    "\n",
    "Write a program that implements the conversion from human years to dog years\n",
    "described in the previous paragraph. Ensure that your program works correctly for\n",
    "conversions of less than two human years and for conversions of two or more human\n",
    "years. Your program should display an appropriate error message if the user enters\n",
    "a negative number."
   ]
  },
  {
   "cell_type": "code",
   "execution_count": 18,
   "metadata": {},
   "outputs": [
    {
     "name": "stdin",
     "output_type": "stream",
     "text": [
      "Please input the total 'Human Years' 13\n"
     ]
    },
    {
     "name": "stdout",
     "output_type": "stream",
     "text": [
      "Equivalent dog years are 65.0\n"
     ]
    }
   ],
   "source": [
    "age = int(input(\"Please input the total 'Human Years'\" ))\n",
    "\n",
    "dog_years = ((age-2)*4)\n",
    "dog_year1 = 10.5\n",
    "dog_year2 = 10.5\n",
    "\n",
    "dog_year = ()\n",
    "if age == 1:\n",
    "    dog_year = dog_year1\n",
    "    print(f'Equivalent dog years are {dog_year}')\n",
    "elif age == 2:\n",
    "    dog_year = dog_year1 + dog_year2\n",
    "    print(f'Equivalent dog years are {dog_year}')\n",
    "elif age > 2:\n",
    "    dog_year = dog_year1 + dog_year2 + dog_years\n",
    "    print(f'Equivalent dog years are {dog_year}')\n",
    "else:\n",
    "    age <= 0\n",
    "    print('Error, age must be more than 0')"
   ]
  },
  {
   "cell_type": "code",
   "execution_count": null,
   "metadata": {},
   "outputs": [],
   "source": []
  }
 ],
 "metadata": {
  "kernelspec": {
   "display_name": "Python",
   "language": "python",
   "name": "conda-env-python-py"
  },
  "language_info": {
   "codemirror_mode": {
    "name": "ipython",
    "version": 3
   },
   "file_extension": ".py",
   "mimetype": "text/x-python",
   "name": "python",
   "nbconvert_exporter": "python",
   "pygments_lexer": "ipython3",
   "version": "3.6.10"
  }
 },
 "nbformat": 4,
 "nbformat_minor": 4
}
