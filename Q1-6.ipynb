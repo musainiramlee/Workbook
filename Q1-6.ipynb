{
 "cells": [
  {
   "cell_type": "markdown",
   "metadata": {},
   "source": [
    "**Exercise 1: Mailing Address**\n",
    "\n",
    "Create a program that displays your name and complete mailing address formatted in\n",
    "the manner that you would usually see it on the outside of an envelope. Your program\n",
    "does not need to read any input from the user."
   ]
  },
  {
   "cell_type": "code",
   "execution_count": 1,
   "metadata": {},
   "outputs": [
    {
     "name": "stdout",
     "output_type": "stream",
     "text": [
      "\n",
      "Musaini Ramlee\n",
      "\n",
      "4, Rusholme Place,\n",
      "M14 5TE, Manchester,\n",
      "United Kingdom\n",
      "\n"
     ]
    }
   ],
   "source": [
    "print('''\n",
    "Musaini Ramlee\n",
    "\n",
    "4, Rusholme Place,\n",
    "M14 5TE, Manchester,\n",
    "United Kingdom\n",
    "''')"
   ]
  },
  {
   "cell_type": "markdown",
   "metadata": {},
   "source": [
    "   \n",
    "   "
   ]
  },
  {
   "cell_type": "markdown",
   "metadata": {},
   "source": [
    "**Exercise 2:** **Hello**\n",
    "\n",
    "Write a program that asks the user to enter his or her name. The program should\n",
    "respond with a message that says hello to the user, using his or her name."
   ]
  },
  {
   "cell_type": "code",
   "execution_count": 2,
   "metadata": {},
   "outputs": [
    {
     "name": "stdin",
     "output_type": "stream",
     "text": [
      "Please enter your Name:  Musaini\n"
     ]
    },
    {
     "name": "stdout",
     "output_type": "stream",
     "text": [
      "Hell0 Musaini\n",
      "Have a good day\n"
     ]
    }
   ],
   "source": [
    "Name = (input('Please enter your Name: '))\n",
    "print('Hell0 '+str(Name))\n",
    "print('Have a good day')"
   ]
  },
  {
   "cell_type": "markdown",
   "metadata": {},
   "source": [
    "    "
   ]
  },
  {
   "cell_type": "markdown",
   "metadata": {},
   "source": [
    "**Exercise 3:Area of a Room**   \n",
    "\n",
    "\n",
    "Write a program that asks the user to enter the width and length of a room. Once\n",
    "the values have been read, your program should compute and display the area of the\n",
    "room. The length and the width will be entered as floating point numbers. Include\n",
    "units in your prompt and output message; either feet or meters, depending on which\n",
    "unit you are more comfortable working with."
   ]
  },
  {
   "cell_type": "code",
   "execution_count": 3,
   "metadata": {},
   "outputs": [
    {
     "name": "stdin",
     "output_type": "stream",
     "text": [
      "Room's width in mtr? 5\n",
      "Room's length in mtr 8\n"
     ]
    },
    {
     "name": "stdout",
     "output_type": "stream",
     "text": [
      "Yor room's area is 40m2\n"
     ]
    }
   ],
   "source": [
    "width = input(\"Room's width in mtr?\")\n",
    "length = input(\"Room's length in mtr\")\n",
    "print(\"Yor room's area is \"+str(int(width)*int(length))+'m2')"
   ]
  },
  {
   "cell_type": "markdown",
   "metadata": {},
   "source": [
    "   "
   ]
  },
  {
   "cell_type": "markdown",
   "metadata": {},
   "source": [
    "**Exercise 4:Area of a Field**\n",
    "\n",
    "Create a program that reads the length and width of a farmer’s field from the user in\n",
    "feet. Display the area of the field in acres."
   ]
  },
  {
   "cell_type": "code",
   "execution_count": 5,
   "metadata": {},
   "outputs": [
    {
     "name": "stdin",
     "output_type": "stream",
     "text": [
      "Your field's length in ft? 600\n",
      "Your field's width in ft? 700\n"
     ]
    },
    {
     "name": "stdout",
     "output_type": "stream",
     "text": [
      "Total field's area in is 9.641856 acres\n"
     ]
    }
   ],
   "source": [
    "field_length = input(\"Your field's length in ft?\")\n",
    "field_width = input(\"Your field's width in ft?\")\n",
    "\n",
    "print(\"Total field's area in is \" + str(int(field_length)*int(field_width)*2.29568e-5) +' acres')"
   ]
  },
  {
   "cell_type": "markdown",
   "metadata": {},
   "source": [
    "   "
   ]
  },
  {
   "cell_type": "markdown",
   "metadata": {},
   "source": [
    "**Exercise 5: Bottle Deposits**\n",
    "\n",
    "In many jurisdictions a small deposit is added to drink containers to encourage people\n",
    "to recycle them. In one particular jurisdiction, drink containers holding one liter or\n",
    "less have a 0.10 USD deposit, and drink containers holding more than one liter have a\n",
    "$0.25 deposit.\n",
    "Write a program that reads the number of containers of each size from the user.\n",
    "Your program should continue by computing and displaying the refund that will be\n",
    "received for returning those containers. Format the output so that it includes a dollar\n",
    "sign and always displays exactly two decimal places."
   ]
  },
  {
   "cell_type": "code",
   "execution_count": 13,
   "metadata": {},
   "outputs": [
    {
     "name": "stdin",
     "output_type": "stream",
     "text": [
      "No of containers with volume 1L or less? 123\n",
      "No of containers with volume more that 1L? 590\n"
     ]
    },
    {
     "name": "stdout",
     "output_type": "stream",
     "text": [
      "Your total refund is $159.8\n",
      "Thank You for recycling\n"
     ]
    }
   ],
   "source": [
    "small_cont = input(\"No of containers with volume 1L or less?\")\n",
    "big_cont = input(\"No of containers with volume more that 1L?\")\n",
    "total_ref = (int(small_cont)*0.1)+(int(big_cont)*0.25)\n",
    "\n",
    "print(\"Your total refund is $\"+str(total_ref))\n",
    "print(\"Thank You for recycling\")"
   ]
  },
  {
   "cell_type": "markdown",
   "metadata": {},
   "source": [
    "   \n",
    "   "
   ]
  },
  {
   "cell_type": "markdown",
   "metadata": {},
   "source": [
    "**Exercise 6:Tax and Tip**\n",
    "\n",
    "The program that you create for this exercise will begin by reading the cost of a meal\n",
    "ordered at a restaurant from the user. Then your program will compute the tax and\n",
    "tip for the meal. Use your local tax rate when computing the amount of tax owing.\n",
    "Compute the tip as 18 percent of the meal amount (without the tax). The output from\n",
    "your program should include the tax amount, the tip amount, and the grand total for\n",
    "the meal including both the tax and the tip. Format the output so that all of the values\n",
    "are displayed using two decimal places."
   ]
  },
  {
   "cell_type": "code",
   "execution_count": 2,
   "metadata": {},
   "outputs": [],
   "source": [
    "Burger_C = 15\n",
    "Fries_C = 4.99\n",
    "Shake_C = 7.20\n",
    "Pie_C = 2.50\n",
    "Salad_C = 15"
   ]
  },
  {
   "cell_type": "code",
   "execution_count": 11,
   "metadata": {},
   "outputs": [
    {
     "name": "stdout",
     "output_type": "stream",
     "text": [
      "Hi, may I take you order?\n"
     ]
    },
    {
     "name": "stdin",
     "output_type": "stream",
     "text": [
      "How many burgers? 12\n",
      "How many fries? 11\n",
      "How many shakes? 14\n",
      "How many Pie 15\n",
      "Lastly, how many salads? 16\n"
     ]
    },
    {
     "name": "stdout",
     "output_type": "stream",
     "text": [
      "Total Order is $613.19\n",
      "Total Tax is $36.79\n",
      "and total tips is $110.37\n",
      "Thank You!! Enjoy your meal!\n"
     ]
    }
   ],
   "source": [
    "print('Hi, may I take you order?')\n",
    "Burg_Qty = input(\"How many burgers?\")\n",
    "Fries_Qty = input(\"How many fries?\")\n",
    "Shake_Qty = input(\"How many shakes?\")\n",
    "Pie_Qty = input(\"How many Pie\")\n",
    "Salad = input(\"Lastly, how many salads?\")\n",
    "\n",
    "Total_order = round(int(Burg_Qty)*Burger_C + int(Fries_Qty)*Fries_C + int(Shake_Qty)*Shake_C + int(Pie_Qty)*Pie_C + int(Salad)*Salad_C,2)\n",
    "tax = round((0.06*Total_order),2)\n",
    "tips = round((0.18*Total_order),2)  \n",
    "\n",
    "print(\"Total Order is $\"+str(Total_order)) \n",
    "print(\"Total Tax is $\"+ str(tax))\n",
    "print(\"and total tips is $\"+ str(tips))\n",
    "\n",
    "print(\"Thank You!! Enjoy your meal!\")"
   ]
  },
  {
   "cell_type": "markdown",
   "metadata": {},
   "source": [
    "**Note that in order to control the decimal places, you may use the round function**"
   ]
  }
 ],
 "metadata": {
  "kernelspec": {
   "display_name": "Python",
   "language": "python",
   "name": "conda-env-python-py"
  },
  "language_info": {
   "codemirror_mode": {
    "name": "ipython",
    "version": 3
   },
   "file_extension": ".py",
   "mimetype": "text/x-python",
   "name": "python",
   "nbconvert_exporter": "python",
   "pygments_lexer": "ipython3",
   "version": "3.6.10"
  }
 },
 "nbformat": 4,
 "nbformat_minor": 4
}
