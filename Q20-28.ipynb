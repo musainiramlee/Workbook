{
 "cells": [
  {
   "cell_type": "markdown",
   "metadata": {},
   "source": [
    "**Exercise 20: Ideal Gas Law**\n",
    "\n",
    "The ideal gas law is a mathematical approximation of the behavior of gasses as\n",
    "pressure, volume and temperature change. It is usually stated as:    \n",
    "PV = nRT    \n",
    "where P is the pressure in Pascals, V is the volume in liters, n is the amount of\n",
    "substance in moles, R is the ideal gas constant, equal to 8.314 Jmol K , and T is the\n",
    "temperature in degrees Kelvin.   \n",
    "Write a program that computes the amount of gas in moles when the user supplies\n",
    "the pressure, volume and temperature. Test your program by determining the number\n",
    "of moles of gas in a SCUBA tank. A typical SCUBA tank holds 12 liters of gas at\n",
    "a pressure of 20,000,000 Pascals (approximately 3,000 PSI). Room temperature is\n",
    "approximately 20 degrees Celsius or 68 degrees Fahrenheit."
   ]
  },
  {
   "cell_type": "code",
   "execution_count": 8,
   "metadata": {},
   "outputs": [
    {
     "name": "stdout",
     "output_type": "stream",
     "text": [
      "98471.67 moles\n"
     ]
    }
   ],
   "source": [
    "def gas_amount(P, V, T):\n",
    "    n = round((P*V)/(8.314*(T+273.15)),2)\n",
    "    print(f'{n} moles')\n",
    "\n",
    "    \n",
    "gas_amount(20000000, 12, 20)"
   ]
  },
  {
   "cell_type": "markdown",
   "metadata": {},
   "source": [
    "**Exercise 26: Current Time**\n",
    "\n",
    "Python includes a library of functions for working with time, including a function\n",
    "called asctime in the time module. It reads the current time from the computer’s\n",
    "internal clock and returns it in a human-readable format. Write a program\n",
    "that displays the current time and date. Your program will not require any input from\n",
    "the user."
   ]
  },
  {
   "cell_type": "code",
   "execution_count": 22,
   "metadata": {},
   "outputs": [
    {
     "data": {
      "text/plain": [
       "'Tue Jun  2 15:21:28 2020'"
      ]
     },
     "execution_count": 22,
     "metadata": {},
     "output_type": "execute_result"
    }
   ],
   "source": [
    "import time\n",
    "time.asctime(t)"
   ]
  },
  {
   "cell_type": "markdown",
   "metadata": {},
   "source": [
    "**Exercise 28:Wind Chill**\n",
    "\n",
    "When the wind blows in cold weather, the air feels even colder than it actually is\n",
    "because the movement of the air increases the rate of cooling for warm objects, like\n",
    "people. This effect is known as wind chill.   \n",
    "\n",
    "In 2001, Canada, the United Kingdom and the United States adopted the following\n",
    "formula for computing the wind chill index. Within the formula Ta is the\n",
    "air temperature in degrees Celsius and V is the wind speed in kilometers per hour.\n",
    "A similar formula with different constant values can be used with temperatures in\n",
    "degrees Fahrenheit and wind speeds in miles per hour.    \n",
    "\n",
    "WCI = 13.12 + 0.6215Ta − 11.37V0.16 + 0.3965TaV0.16    \n",
    "\n",
    "Write a program that begins by reading the air temperature and wind speed from the\n",
    "user. Once these values have been read your program should display the wind chill\n",
    "index rounded to the closest integer.    \n",
    "\n",
    "The wind chill index is only considered valid for temperatures less than or\n",
    "equal to 10 degrees Celsius and wind speeds exceeding 4.8 kilometers per\n",
    "hour."
   ]
  },
  {
   "cell_type": "code",
   "execution_count": 13,
   "metadata": {},
   "outputs": [
    {
     "name": "stdin",
     "output_type": "stream",
     "text": [
      "What is the Temperature(Deg C) 3\n",
      "What is the wind velocity(km/h) 14\n"
     ]
    },
    {
     "data": {
      "text/plain": [
       "'The Wind Chill Index is -7.82 Deg C'"
      ]
     },
     "execution_count": 13,
     "metadata": {},
     "output_type": "execute_result"
    }
   ],
   "source": [
    "def WCI(Ta, V):\n",
    "    Wind_Chill_Index =round(13.12 + (0.6215*Ta) - (11.37*V*0.16) + (0.3965*Ta*V*0.16),2)\n",
    "    return (f'The Wind Chill Index is {Wind_Chill_Index} Deg C')\n",
    "\n",
    "Ta = float(input('What is the Temperature(Deg C)'))\n",
    "V = float(input('What is the wind velocity(km/h)'))\n",
    "\n",
    "WCI(Ta, V)"
   ]
  }
 ],
 "metadata": {
  "kernelspec": {
   "display_name": "Python",
   "language": "python",
   "name": "conda-env-python-py"
  },
  "language_info": {
   "codemirror_mode": {
    "name": "ipython",
    "version": 3
   },
   "file_extension": ".py",
   "mimetype": "text/x-python",
   "name": "python",
   "nbconvert_exporter": "python",
   "pygments_lexer": "ipython3",
   "version": "3.6.10"
  }
 },
 "nbformat": 4,
 "nbformat_minor": 4
}
