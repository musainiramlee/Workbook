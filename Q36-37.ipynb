{
 "cells": [
  {
   "cell_type": "markdown",
   "metadata": {},
   "source": [
    "**Exercise 36:Vowel or Consonant**\n",
    "\n",
    "In this exercise you will create a program that reads a letter of the alphabet from the\n",
    "user. If the user enters a, e, i, o or u then your program should display a message\n",
    "indicating that the entered letter is a vowel. If the user enters y then your program\n",
    "should display a message indicating that sometimes y is a vowel, and sometimes y is\n",
    "a consonant. Otherwise your program should display a message indicating that the\n",
    "letter is a consonant."
   ]
  },
  {
   "cell_type": "code",
   "execution_count": 1,
   "metadata": {},
   "outputs": [
    {
     "name": "stdin",
     "output_type": "stream",
     "text": [
      "Please key in an alphabet f\n"
     ]
    },
    {
     "name": "stdout",
     "output_type": "stream",
     "text": [
      "This letter is a consonant\n"
     ]
    }
   ],
   "source": [
    "letter = input('Please key in an alphabet')\n",
    "\n",
    "if letter.lower() == \"a\" or letter.lower() == 'e' or letter.lower() == 'i' or letter.lower() == 'o' or letter.lower() == 'u':\n",
    "    print('This is a vowel')\n",
    "elif letter.lower() == 'y':\n",
    "    print('Sometimes, this letter is a consonant and sometimes a vowel')\n",
    "else:\n",
    "    print('This letter is a consonant')"
   ]
  },
  {
   "cell_type": "markdown",
   "metadata": {},
   "source": [
    "    "
   ]
  },
  {
   "cell_type": "markdown",
   "metadata": {},
   "source": [
    "**Exercise 37:Name that Shape**\n",
    "\n",
    "Write a program that determines the name of a shape from its number of sides. Read\n",
    "the number of sides from the user and then report the appropriate name as part of\n",
    "a meaningful message. Your program should support shapes with anywhere from 3\n",
    "up to (and including) 10 sides. If a number of sides outside of this range is entered\n",
    "then your program should display an appropriate error message."
   ]
  },
  {
   "cell_type": "code",
   "execution_count": 6,
   "metadata": {},
   "outputs": [
    {
     "name": "stdin",
     "output_type": "stream",
     "text": [
      "Key in the number of sides 9\n"
     ]
    },
    {
     "name": "stdout",
     "output_type": "stream",
     "text": [
      "It's a nonagon\n"
     ]
    }
   ],
   "source": [
    "side = int(input('Key in the number of sides'))\n",
    "\n",
    "if side == 0:\n",
    "    print(\"It's a dot\")\n",
    "elif side == 1:\n",
    "    print(\"It's a line\")\n",
    "elif side == 2:\n",
    "    print(\"It's a 2D line\")\n",
    "elif side == 3:\n",
    "    print(\"It's a triangle\")\n",
    "elif side == 4:\n",
    "    print(\"It's a square\")\n",
    "elif side == 5:\n",
    "    print(\"It's a pentagon\")\n",
    "elif side == 6:\n",
    "    print(\"It's a hexagon\")\n",
    "elif side == 7:\n",
    "    print(\"It's a heptagon\")\n",
    "elif side == 8:\n",
    "    print(\"It's a octagon\")\n",
    "elif side == 9:\n",
    "    print(\"It's a nonagon\")\n",
    "elif side == 8:\n",
    "    print(\"It's a decagon\")\n",
    "else:\n",
    "    print('Please only key in number that is less than 10')"
   ]
  },
  {
   "cell_type": "markdown",
   "metadata": {},
   "source": [
    "        "
   ]
  }
 ],
 "metadata": {
  "kernelspec": {
   "display_name": "Python",
   "language": "python",
   "name": "conda-env-python-py"
  },
  "language_info": {
   "codemirror_mode": {
    "name": "ipython",
    "version": 3
   },
   "file_extension": ".py",
   "mimetype": "text/x-python",
   "name": "python",
   "nbconvert_exporter": "python",
   "pygments_lexer": "ipython3",
   "version": "3.6.10"
  }
 },
 "nbformat": 4,
 "nbformat_minor": 4
}
