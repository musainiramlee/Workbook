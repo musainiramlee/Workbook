{
 "cells": [
  {
   "cell_type": "markdown",
   "metadata": {},
   "source": [
    "**Exercise 61:Average**\n",
    "\n",
    "In this exercise you will create a program that computes the average of a collection of values entered by the user. The user will enter 0 as a sentinel value to indicate that no further values will be provided. Your program should display an appropriate error message if the first value entered by the user is 0."
   ]
  },
  {
   "cell_type": "code",
   "execution_count": null,
   "metadata": {},
   "outputs": [
    {
     "name": "stdout",
     "output_type": "stream",
     "text": [
      "Key in any numbers to get their average\n",
      "Key in number '0' to stop the application\n"
     ]
    },
    {
     "name": "stdin",
     "output_type": "stream",
     "text": [
      " 100\n",
      " 90\n"
     ]
    }
   ],
   "source": [
    "print('Key in any numbers to get their average')\n",
    "print(\"Key in number '0' to stop the application\")\n",
    "\n",
    "\n",
    "sum = 0\n",
    "n = 0\n",
    "\n",
    "while sum >= 0:\n",
    "    number = input()\n",
    "    number = float(number)\n",
    "    sum = sum + number\n",
    "    n = n + 1\n",
    "    avg = round((sum/n),2)\n",
    "    if number == 0:\n",
    "        n = n-1\n",
    "        avg = round((sum/n),2)\n",
    "        print('Program has stopped')\n",
    "        print(f'The average value for these {n} numbers (excluding 0) is {avg}')\n",
    "        break"
   ]
  },
  {
   "cell_type": "markdown",
   "metadata": {},
   "source": [
    "    "
   ]
  },
  {
   "cell_type": "markdown",
   "metadata": {},
   "source": [
    "        "
   ]
  }
 ],
 "metadata": {
  "kernelspec": {
   "display_name": "Python",
   "language": "python",
   "name": "conda-env-python-py"
  },
  "language_info": {
   "codemirror_mode": {
    "name": "ipython",
    "version": 3
   },
   "file_extension": ".py",
   "mimetype": "text/x-python",
   "name": "python",
   "nbconvert_exporter": "python",
   "pygments_lexer": "ipython3",
   "version": "3.6.10"
  }
 },
 "nbformat": 4,
 "nbformat_minor": 4
}
