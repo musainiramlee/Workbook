{
 "cells": [
  {
   "cell_type": "markdown",
   "metadata": {},
   "source": [
    "## Python Exercise"
   ]
  },
  {
   "cell_type": "markdown",
   "metadata": {},
   "source": [
    "**Exercise 7: Sum of the First n Positive Integers**\n",
    "\n",
    "Write a program that reads a positive integer, n, from the user and then displays the\n",
    "sum of all of the integers from 1 to n. The sum of the first n positive integers can be\n",
    "computed using the formula: sum = ((n)(n+1))/2"
   ]
  },
  {
   "cell_type": "code",
   "execution_count": 18,
   "metadata": {},
   "outputs": [
    {
     "name": "stdin",
     "output_type": "stream",
     "text": [
      "Please choose a positive interger 8\n"
     ]
    },
    {
     "name": "stdout",
     "output_type": "stream",
     "text": [
      "36.0\n"
     ]
    }
   ],
   "source": [
    "n = input('Please choose a positive interger')\n",
    "sum = (float(n)*(float(n)+1))/2\n",
    "print(sum)"
   ]
  },
  {
   "cell_type": "code",
   "execution_count": 27,
   "metadata": {},
   "outputs": [
    {
     "name": "stdin",
     "output_type": "stream",
     "text": [
      "Please choose a positive interger 8\n"
     ]
    },
    {
     "name": "stdout",
     "output_type": "stream",
     "text": [
      "36.0\n"
     ]
    }
   ],
   "source": [
    "x = float(input('Please choose a positive interger'))\n",
    "sum = ((x)*(x+1))/2\n",
    "print(sum)"
   ]
  },
  {
   "cell_type": "markdown",
   "metadata": {},
   "source": [
    "   "
   ]
  },
  {
   "cell_type": "markdown",
   "metadata": {},
   "source": [
    "**Exercise 8: Widgets and Gizmos**\n",
    "\n",
    "An online retailer sells two products: widgets and gizmos. Each widget weighs 75\n",
    "grams. Each gizmo weighs 112 grams. Write a program that reads the number of\n",
    "widgets and the number of gizmos in an order from the user. Then your program\n",
    "should compute and display the total weight of the order."
   ]
  },
  {
   "cell_type": "code",
   "execution_count": 3,
   "metadata": {},
   "outputs": [
    {
     "name": "stdin",
     "output_type": "stream",
     "text": [
      "How many Widgets? 9\n",
      "How many Gizmo? 8\n"
     ]
    },
    {
     "name": "stdout",
     "output_type": "stream",
     "text": [
      "Total weight for you order is 1571grams\n",
      "Thank You!\n"
     ]
    }
   ],
   "source": [
    "wgt = 75\n",
    "giz = 112\n",
    "wgt_qty = int(input('How many Widgets?'))\n",
    "giz_qty = int(input('How many Gizmo?'))\n",
    "\n",
    "weight = (wgt*wgt_qty) + (giz*giz_qty)\n",
    "\n",
    "print('Total weight for you order is '+ str(weight)+'grams')\n",
    "print('Thank You!')"
   ]
  },
  {
   "cell_type": "markdown",
   "metadata": {},
   "source": [
    "   \n",
    "   "
   ]
  },
  {
   "cell_type": "markdown",
   "metadata": {},
   "source": [
    "**Exercise 9: Compound Interest**\n",
    "\n",
    "Pretend that you have just opened a new savings account that earns 4 percent interest\n",
    "per year. The interest that you earn is paid at the end of the year, and is added\n",
    "to the balance of the savings account. Write a program that begins by reading the\n",
    "amount of money deposited into the account from the user. Then your program should\n",
    "compute and display the amount in the savings account after 1, 2, and 3 years. Display\n",
    "each amount so that it is rounded to 2 decimal places."
   ]
  },
  {
   "cell_type": "code",
   "execution_count": 6,
   "metadata": {},
   "outputs": [
    {
     "name": "stdin",
     "output_type": "stream",
     "text": [
      "How much is your initial investment? 1234\n"
     ]
    },
    {
     "name": "stdout",
     "output_type": "stream",
     "text": [
      "Your investment after year 1 is $1283.36\n",
      "Your investment after year 2 is $1334.69\n",
      "Your investment after year 3 is $1388.08\n"
     ]
    }
   ],
   "source": [
    "initial = float(input(\"How much is your initial investment?\"))\n",
    "Y1 = round((initial*1.04),2)\n",
    "print('Your investment after year 1 is $'+str(Y1))\n",
    "Y2 = round((Y1*1.04),2)\n",
    "print('Your investment after year 2 is $'+str(Y2))\n",
    "Y3 = round((Y2*1.04),2)\n",
    "print('Your investment after year 3 is $'+str(Y3))"
   ]
  },
  {
   "cell_type": "markdown",
   "metadata": {},
   "source": [
    "   "
   ]
  },
  {
   "cell_type": "markdown",
   "metadata": {},
   "source": [
    "**Exercise 10:Arithmetic**\n",
    "\n",
    "Create a program that reads two integers, a and b, from the user.Your program should\n",
    "compute and display:   \n",
    "• The sum of a and b   \n",
    "• The difference when b is subtracted from a   \n",
    "• The product of a and b   \n",
    "• The quotient when a is divided by b   \n",
    "• The remainder when a is divided by b   \n",
    "• The result of log10 a   \n",
    "• The result of ab   "
   ]
  },
  {
   "cell_type": "code",
   "execution_count": 3,
   "metadata": {},
   "outputs": [
    {
     "name": "stdin",
     "output_type": "stream",
     "text": [
      "Please define the value of variable 'a' 40\n",
      "Please define the value of variable 'b' 7\n"
     ]
    },
    {
     "name": "stdout",
     "output_type": "stream",
     "text": [
      "Sum of these variables is 47\n",
      "Difference between b and a is -33\n",
      "Product of these variables is 280\n",
      "Quotient when a is divided by b is 5\n",
      "Remainder when a is divided by b is 5\n",
      "Result of log10a 1.6020599913279625\n"
     ]
    }
   ],
   "source": [
    "a = int(input(\"Please define the value of variable 'a'\"))\n",
    "b = int(input(\"Please define the value of variable 'b'\"))\n",
    "import math\n",
    "\n",
    "print('Sum of these variables is '+ str(a+b))\n",
    "print('Difference between b and a is '+ str(b-a))\n",
    "print('Product of these variables is '+ str(a*b))\n",
    "print('Quotient when a is divided by b is '+ str(a//b))\n",
    "print('Remainder when a is divided by b is ' + str(a%b))\n",
    "print('Result of log10a ' + str(math.log10(a)))"
   ]
  },
  {
   "cell_type": "code",
   "execution_count": null,
   "metadata": {},
   "outputs": [],
   "source": []
  }
 ],
 "metadata": {
  "kernelspec": {
   "display_name": "Python",
   "language": "python",
   "name": "conda-env-python-py"
  },
  "language_info": {
   "codemirror_mode": {
    "name": "ipython",
    "version": 3
   },
   "file_extension": ".py",
   "mimetype": "text/x-python",
   "name": "python",
   "nbconvert_exporter": "python",
   "pygments_lexer": "ipython3",
   "version": "3.6.10"
  }
 },
 "nbformat": 4,
 "nbformat_minor": 4
}
